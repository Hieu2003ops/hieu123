{
 "cells": [
  {
   "cell_type": "code",
   "execution_count": 1,
   "id": "709a88ef",
   "metadata": {},
   "outputs": [],
   "source": [
    "import turtle\n",
    "tl=turtle.Turtle()\n",
    "tl.shape('arrow')\n",
    "tl.pensize(1)\n",
    "tl.pencolor(\"blue\")\n",
    "tl.speed(1)\n",
    "tl.fillcolor(\"red\")\n",
    "tl.begin_fill()\n",
    "tl.forward(200)\n",
    "tl.right(90)\n",
    "tl.backward(100)\n",
    "tl.right(90)\n",
    "tl.forward(200)\n",
    "tl.left(90)\n",
    "tl.forward(100)\n",
    "tl.end_fill()\n",
    "turtle.done()"
   ]
  }
 ],
 "metadata": {
  "kernelspec": {
   "display_name": "Python 3 (ipykernel)",
   "language": "python",
   "name": "python3"
  },
  "language_info": {
   "codemirror_mode": {
    "name": "ipython",
    "version": 3
   },
   "file_extension": ".py",
   "mimetype": "text/x-python",
   "name": "python",
   "nbconvert_exporter": "python",
   "pygments_lexer": "ipython3",
   "version": "3.9.7"
  }
 },
 "nbformat": 4,
 "nbformat_minor": 5
}

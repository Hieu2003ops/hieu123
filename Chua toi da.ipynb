{
 "cells": [
  {
   "cell_type": "code",
   "execution_count": 1,
   "id": "5756bba8",
   "metadata": {},
   "outputs": [
    {
     "name": "stdout",
     "output_type": "stream",
     "text": [
      "Hinh hop chu nhat chua duoc toi da 19314 Hinh lap phuong\n"
     ]
    }
   ],
   "source": [
    "#Nhap 3 canh cua hinh chu nhat\n",
    "x=111\n",
    "y=87\n",
    "z=56\n",
    "#Nhap cạnh của hình lập phương (HPL)\n",
    "a=3\n",
    "#Tính thể tích hình hộp chữ nhật \n",
    "Thetich=x*y*z\n",
    "b=x//a\n",
    "c=y//a\n",
    "d=z//a\n",
    "Sohinh=b*c*d\n",
    "print('Hinh hop chu nhat chua duoc toi da',Sohinh,'Hinh lap phuong')"
   ]
  },
  {
   "cell_type": "code",
   "execution_count": null,
   "id": "702aa3c5",
   "metadata": {},
   "outputs": [],
   "source": []
  }
 ],
 "metadata": {
  "kernelspec": {
   "display_name": "Python 3 (ipykernel)",
   "language": "python",
   "name": "python3"
  },
  "language_info": {
   "codemirror_mode": {
    "name": "ipython",
    "version": 3
   },
   "file_extension": ".py",
   "mimetype": "text/x-python",
   "name": "python",
   "nbconvert_exporter": "python",
   "pygments_lexer": "ipython3",
   "version": "3.9.7"
  }
 },
 "nbformat": 4,
 "nbformat_minor": 5
}

{
 "cells": [
  {
   "cell_type": "code",
   "execution_count": 1,
   "id": "cee45d27",
   "metadata": {},
   "outputs": [
    {
     "name": "stdout",
     "output_type": "stream",
     "text": [
      "Nhap 3 so nguyen:\n",
      "a=5\n",
      "b=7\n",
      "c=9\n",
      "So lon nhat la: 9"
     ]
    }
   ],
   "source": [
    "def nhap():\n",
    "    print(\"Nhap 3 so nguyen:\")\n",
    "    a=int(input(\"a=\"))\n",
    "    b=int(input(\"b=\"))\n",
    "    c=int(input(\"c=\"))\n",
    "    return(a,b,c)\n",
    "def max3 (a,b,c):\n",
    "    max=a\n",
    "    if b>a:\n",
    "        max=b\n",
    "    if c>a:\n",
    "        max=c\n",
    "    return(max)\n",
    "def inkq(max):\n",
    "    print(\"So lon nhat la:\",max,end=\"\")\n",
    "a,b,c=nhap()\n",
    "KQ=max3(a,b,c)\n",
    "inkq(KQ)"
   ]
  },
  {
   "cell_type": "code",
   "execution_count": 2,
   "id": "c8b6c82e",
   "metadata": {},
   "outputs": [
    {
     "name": "stdout",
     "output_type": "stream",
     "text": [
      "Nhap 3 so nguyen:\n",
      "a=3\n",
      "b=4\n",
      "c=6\n",
      "Phuong trinh vo nghiem\n"
     ]
    }
   ],
   "source": [
    "def nhap():\n",
    "    print(\"Nhap 3 so nguyen:\")\n",
    "    a=int(input(\"a=\"))\n",
    "    b=int(input(\"b=\"))\n",
    "    c=int(input(\"c=\"))\n",
    "    return a,b,c\n",
    "def giaipt(a,b,c):\n",
    "    if a!=0 and b!=0 and c!=0:\n",
    "        denta=b**2-4*a*c\n",
    "        if denta>0:\n",
    "            import math\n",
    "            x1=(-b+math.sqrt(denta))/(2*a)\n",
    "            x2=(-b-math.sqrt(denta))/(2*a)\n",
    "            print(\"Phuong trinh co hai nghiem\")\n",
    "        elif denta==0:\n",
    "            x1=x2=-b/2*a\n",
    "            print(\"Phuong trinh co nghiem kep\")\n",
    "        else:\n",
    "            x1=x2=None\n",
    "        return x1,x2\n",
    "    else:\n",
    "        x1=x2=None  \n",
    "    return x1,x2\n",
    "def inkq(x1,x2):\n",
    "        if x1!=x2!=None:\n",
    "            print(\"x1=\",x1,sep=\"\")\n",
    "            print(\"x2=\",x2,sep=\"\")\n",
    "        if x1==x2 and x1!=None and x2!=None:\n",
    "            print(\"x1=x2=\",x1,sep=\"\")\n",
    "        if x1==None and x2==None:\n",
    "            print(\"Phuong trinh vo nghiem\")\n",
    "a,b,c=nhap()\n",
    "x1,x2=giaipt(a,b,c)\n",
    "inkq(x1,x2)"
   ]
  },
  {
   "cell_type": "code",
   "execution_count": 3,
   "id": "f2638faf",
   "metadata": {},
   "outputs": [
    {
     "name": "stdout",
     "output_type": "stream",
     "text": [
      "Max even, min odd:  (3222, 25)\n"
     ]
    }
   ],
   "source": [
    "def max_even_min_odd_text(text):\n",
    "    def get_number(text):\n",
    "        '''Tách các số từ 1 chuỗi hỗn hợp'''\n",
    "        text = text.split()\n",
    "        text2 = ''\n",
    "        for i in text:\n",
    "            cond = True\n",
    "            for j in i:\n",
    "                if j not in '0123456789':\n",
    "                    cond = False\n",
    "                    break\n",
    "            if cond == True:\n",
    "                text2 += i +' '\n",
    "        return  text2 \n",
    "    def max_even_min_odd_number(num):\n",
    "        num = num.split()\n",
    "        flag_even = False\n",
    "        flag_odd = False\n",
    "        for i in num:\n",
    "            if int(i)%2 == 0:\n",
    "                max = int(i)\n",
    "                flag_even = True\n",
    "            else:\n",
    "                min = int(i)\n",
    "                flag_odd = True\n",
    "        if flag_odd == False and flag_even == False:\n",
    "            max = '-'\n",
    "            min = '-'\n",
    "        elif flag_odd == True and flag_even == True:\n",
    "            for i in num:\n",
    "                if int(i)%2 !=0:\n",
    "                    if int(i) <= min:\n",
    "                        min = int(i)\n",
    "                else:\n",
    "                    if int(i) >= max:\n",
    "                        max = int(i)\n",
    "        else:       \n",
    "            for i in num:\n",
    "                if flag_even == False:\n",
    "                    max = '-'\n",
    "                    if int(i)%2 !=0:\n",
    "                        if int(i) <= min:\n",
    "                            min = int(i)\n",
    "                else:\n",
    "                    min = ' '\n",
    "                    if int(i)%2 ==0:\n",
    "                        if int(i) >= max:\n",
    "                            max = int(i)\n",
    "        return max, min        \n",
    "    num = get_number(text)\n",
    "    return max_even_min_odd_number(num)   \n",
    "text = 'asdfj asdkfj sd1kj3 1k23j 1k4h 41sdssa4 3222 4dfdf4 42wwew 25 4j234j'\n",
    "print('Max even, min odd: ',max_even_min_odd_text(text))"
   ]
  },
  {
   "cell_type": "code",
   "execution_count": null,
   "id": "87bd6a22",
   "metadata": {},
   "outputs": [],
   "source": []
  },
  {
   "cell_type": "code",
   "execution_count": null,
   "id": "e2d72aed",
   "metadata": {},
   "outputs": [],
   "source": []
  }
 ],
 "metadata": {
  "kernelspec": {
   "display_name": "Python 3 (ipykernel)",
   "language": "python",
   "name": "python3"
  },
  "language_info": {
   "codemirror_mode": {
    "name": "ipython",
    "version": 3
   },
   "file_extension": ".py",
   "mimetype": "text/x-python",
   "name": "python",
   "nbconvert_exporter": "python",
   "pygments_lexer": "ipython3",
   "version": "3.9.7"
  }
 },
 "nbformat": 4,
 "nbformat_minor": 5
}

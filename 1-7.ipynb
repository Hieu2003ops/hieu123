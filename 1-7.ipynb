{
 "cells": [
  {
   "cell_type": "markdown",
   "id": "fd3ca111",
   "metadata": {},
   "source": [
    "a=int(input(\"\"))\n",
    "if a == 1:\n",
    "\tprint(\"Monday\")\n",
    "elif a == 2:\n",
    "\tprint(\"Tuesday\")\n",
    "elif a == 3:\n",
    "\tprint(\"Wednesday\")\n",
    "elif a == 4:\n",
    "\tprint(\"Thursday\")\n",
    "elif a == 5:\n",
    "\tprint(\"Friday\")\n",
    "elif a == 6:\n",
    "\tprint(\"Saturday\")\n",
    "elif a == 7:\n",
    "\tprint(\"Sunday\")\n",
    "else:\n",
    "    print(\"Error,out of range\")"
   ]
  },
  {
   "cell_type": "code",
   "execution_count": null,
   "id": "6bca6397",
   "metadata": {},
   "outputs": [],
   "source": []
  }
 ],
 "metadata": {
  "kernelspec": {
   "display_name": "Python 3 (ipykernel)",
   "language": "python",
   "name": "python3"
  },
  "language_info": {
   "codemirror_mode": {
    "name": "ipython",
    "version": 3
   },
   "file_extension": ".py",
   "mimetype": "text/x-python",
   "name": "python",
   "nbconvert_exporter": "python",
   "pygments_lexer": "ipython3",
   "version": "3.9.7"
  }
 },
 "nbformat": 4,
 "nbformat_minor": 5
}
